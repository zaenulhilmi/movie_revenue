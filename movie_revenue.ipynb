{
  "nbformat": 4,
  "nbformat_minor": 0,
  "metadata": {
    "colab": {
      "name": "movie_revenue",
      "provenance": [],
      "collapsed_sections": [],
      "authorship_tag": "ABX9TyNDexmx93tI8xCAcZo26QYP",
      "include_colab_link": true
    },
    "kernelspec": {
      "name": "python3",
      "display_name": "Python 3"
    }
  },
  "cells": [
    {
      "cell_type": "markdown",
      "metadata": {
        "id": "view-in-github",
        "colab_type": "text"
      },
      "source": [
        "<a href=\"https://colab.research.google.com/github/zaenulhilmi/movie_revenue/blob/master/movie_revenue.ipynb\" target=\"_parent\"><img src=\"https://colab.research.google.com/assets/colab-badge.svg\" alt=\"Open In Colab\"/></a>"
      ]
    },
    {
      "cell_type": "markdown",
      "metadata": {
        "id": "81_XKr14GXcz",
        "colab_type": "text"
      },
      "source": [
        "#Movie Revenue\n",
        "The project is a prediction of movie revenue using regression model."
      ]
    },
    {
      "cell_type": "markdown",
      "metadata": {
        "id": "LmNm5qrxG2Nx",
        "colab_type": "text"
      },
      "source": [
        "##Dataset\n",
        "It used dataset from https://www.kaggle.com/tmdb/tmdb-movie-metadata\n",
        "\n"
      ]
    },
    {
      "cell_type": "markdown",
      "metadata": {
        "id": "qvUVGcF1HUpZ",
        "colab_type": "text"
      },
      "source": [
        "With a label of **revenue**, We pick only certain feature:\n",
        "*   popularity\n",
        "*   budget\n",
        "*   vote_average\n",
        "*   vote_count\n",
        "\n"
      ]
    },
    {
      "cell_type": "markdown",
      "metadata": {
        "id": "J_COLwXPInaa",
        "colab_type": "text"
      },
      "source": [
        "##Code\n"
      ]
    },
    {
      "cell_type": "markdown",
      "metadata": {
        "id": "Zh_rxcv_Iw3f",
        "colab_type": "text"
      },
      "source": [
        "###Importing package\n"
      ]
    },
    {
      "cell_type": "code",
      "metadata": {
        "id": "fvG45fYdI5r-",
        "colab_type": "code",
        "colab": {}
      },
      "source": [
        "import matplotlib.pyplot as plt\n",
        "import pandas as pd\n",
        "\n",
        "import tensorflow as tf\n",
        "\n",
        "from tensorflow import keras\n",
        "from tensorflow.keras import layers"
      ],
      "execution_count": 0,
      "outputs": []
    },
    {
      "cell_type": "markdown",
      "metadata": {
        "id": "QlbMB7zYJgRd",
        "colab_type": "text"
      },
      "source": [
        "###Preparation Functions\n"
      ]
    },
    {
      "cell_type": "code",
      "metadata": {
        "id": "qX1McoteJyWz",
        "colab_type": "code",
        "colab": {}
      },
      "source": [
        "def build_model():\n",
        "    model = keras.Sequential([\n",
        "        layers.Dense(64, activation='relu', input_shape=[len(train_dataset.keys())]),\n",
        "        layers.Dense(64, activation='relu'),\n",
        "        layers.Dense(1)\n",
        "    ])\n",
        "\n",
        "    optimizer = tf.keras.optimizers.RMSprop(0.001)\n",
        "\n",
        "    model.compile(loss='mse',\n",
        "                  optimizer=optimizer,\n",
        "                  metrics=['mae', 'mse'])\n",
        "    return model\n",
        "\n",
        "\n",
        "def normalize(x):\n",
        "    return (x - train_stats['mean']) / train_stats['std']"
      ],
      "execution_count": 0,
      "outputs": []
    },
    {
      "cell_type": "markdown",
      "metadata": {
        "id": "TAdSsEVUKFV8",
        "colab_type": "text"
      },
      "source": [
        "###Load and Prepare Training and Test Dataset"
      ]
    },
    {
      "cell_type": "code",
      "metadata": {
        "id": "E0djRCgfKYpH",
        "colab_type": "code",
        "colab": {}
      },
      "source": [
        "raw_dataset = pd.read_csv('https://raw.githubusercontent.com/zaenulhilmi/movie_revenue/master/datasets/movies.csv')\n",
        "dataset = raw_dataset.copy()\n",
        "train_dataset = dataset.sample(frac=0.8, random_state=0)\n",
        "test_dataset = dataset.drop(train_dataset.index)\n",
        "train_labels = train_dataset.pop('revenue')\n",
        "test_labels = test_dataset.pop('revenue')"
      ],
      "execution_count": 0,
      "outputs": []
    },
    {
      "cell_type": "markdown",
      "metadata": {
        "id": "zIBhap8qLOok",
        "colab_type": "text"
      },
      "source": [
        "### Normalize Dataset\n"
      ]
    },
    {
      "cell_type": "code",
      "metadata": {
        "id": "1TOo_gTLLaBU",
        "colab_type": "code",
        "colab": {}
      },
      "source": [
        "normed_train_data = normalize(train_dataset)\n",
        "normed_test_data = normalize(test_dataset)\n"
      ],
      "execution_count": 0,
      "outputs": []
    },
    {
      "cell_type": "markdown",
      "metadata": {
        "id": "_q3cpmU7Lru9",
        "colab_type": "text"
      },
      "source": [
        "###Build Model and Train\n"
      ]
    },
    {
      "cell_type": "code",
      "metadata": {
        "id": "sVMtGERML5Zv",
        "colab_type": "code",
        "colab": {}
      },
      "source": [
        "model = build_model()\n",
        "\n",
        "EPOCHS = 1000\n",
        "\n",
        "history = model.fit(\n",
        "    normed_train_data[['popularity', 'budget', 'vote_average', 'vote_count']], train_labels,\n",
        "    epochs=EPOCHS, validation_split=0.2, verbose=0)"
      ],
      "execution_count": 0,
      "outputs": []
    },
    {
      "cell_type": "markdown",
      "metadata": {
        "id": "6JsaklYAMH6s",
        "colab_type": "text"
      },
      "source": [
        "###Logging for History Info and Loss, MAE, and MSE\n"
      ]
    },
    {
      "cell_type": "code",
      "metadata": {
        "id": "fy-xyF8ZMkNA",
        "colab_type": "code",
        "colab": {}
      },
      "source": [
        "hist = pd.DataFrame(history.history)\n",
        "hist['epoch'] = history.epoch\n",
        "print(hist.tail())\n",
        "loss, mae, mse = model.evaluate(normed_test_data[['popularity', 'budget', 'vote_average', 'vote_count']], test_labels,\n",
        "                                verbose=2)\n",
        "print(loss, mae, mse)"
      ],
      "execution_count": 0,
      "outputs": []
    },
    {
      "cell_type": "markdown",
      "metadata": {
        "id": "JY1qeAfqMscB",
        "colab_type": "text"
      },
      "source": [
        "```\n",
        "         val_loss  val_mean_absolute_error  ...  mean_squared_error  epoch\n",
        "995  8.037158e+15             5.260173e+07  ...        9.034380e+15    995\n",
        "996  8.036487e+15             5.259795e+07  ...        9.033256e+15    996\n",
        "997  8.035866e+15             5.259652e+07  ...        9.032305e+15    997\n",
        "998  8.035041e+15             5.259552e+07  ...        9.031515e+15    998\n",
        "999  8.034494e+15             5.259630e+07  ...        9.030478e+15    999\n",
        "\n",
        "[5 rows x 7 columns]\n",
        "1.830084877816003e+16 65934573.11111111 1.830084877816003e+16\n",
        "```"
      ]
    },
    {
      "cell_type": "markdown",
      "metadata": {
        "id": "Pd7TzPY-NBEP",
        "colab_type": "text"
      },
      "source": [
        "###Showing Plot for Prediction and True Value of Revenue\n"
      ]
    },
    {
      "cell_type": "code",
      "metadata": {
        "id": "hv37V5alNKDn",
        "colab_type": "code",
        "colab": {}
      },
      "source": [
        "test_predictions = model.predict(normed_test_data[['popularity', 'budget', 'vote_average', 'vote_count']]).flatten()\n",
        "a = plt.axes(aspect='equal')\n",
        "plt.scatter(test_labels, test_predictions)\n",
        "plt.xlabel('True Values [revenue]')\n",
        "plt.ylabel('Predictions [revenue]')\n",
        "lims = [0, 1000000000]\n",
        "plt.xlim(lims)\n",
        "plt.ylim(lims)\n",
        "_ = plt.plot(lims, lims)\n",
        "plt.show()\n"
      ],
      "execution_count": 0,
      "outputs": []
    },
    {
      "cell_type": "markdown",
      "metadata": {
        "id": "6FmqUbbCUfJj",
        "colab_type": "text"
      },
      "source": [
        "![revenue plot](https://raw.githubusercontent.com/zaenulhilmi/movie_revenue/master/images/plot_revenue.png)"
      ]
    }
  ]
}
